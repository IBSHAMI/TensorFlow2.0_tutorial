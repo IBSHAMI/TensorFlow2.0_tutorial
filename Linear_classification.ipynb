{
  "nbformat": 4,
  "nbformat_minor": 0,
  "metadata": {
    "colab": {
      "name": "Linear_classification.ipynb",
      "provenance": [],
      "collapsed_sections": []
    },
    "kernelspec": {
      "name": "python3",
      "display_name": "Python 3"
    },
    "language_info": {
      "name": "python"
    },
    "accelerator": "GPU"
  },
  "cells": [
    {
      "cell_type": "code",
      "execution_count": null,
      "metadata": {
        "id": "kDct3rWKGq6s",
        "colab": {
          "base_uri": "https://localhost:8080/"
        },
        "outputId": "0a27b3f7-33de-404b-a1cc-154fbc172421"
      },
      "outputs": [
        {
          "output_type": "stream",
          "name": "stdout",
          "text": [
            "2.8.0\n"
          ]
        }
      ],
      "source": [
        "import tensorflow as tf\n",
        "from sklearn.datasets import load_breast_cancer\n",
        "print(tf.__version__)"
      ]
    },
    {
      "cell_type": "code",
      "source": [
        "data = load_breast_cancer()\n",
        "type(data)"
      ],
      "metadata": {
        "colab": {
          "base_uri": "https://localhost:8080/"
        },
        "id": "-qUXqloKEfxW",
        "outputId": "50e3dc77-f5a8-460f-d1b9-9545a3a8813e"
      },
      "execution_count": null,
      "outputs": [
        {
          "output_type": "execute_result",
          "data": {
            "text/plain": [
              "sklearn.utils.Bunch"
            ]
          },
          "metadata": {},
          "execution_count": 21
        }
      ]
    },
    {
      "cell_type": "code",
      "source": [
        "# data is a dict type \n",
        "data.keys()"
      ],
      "metadata": {
        "colab": {
          "base_uri": "https://localhost:8080/"
        },
        "id": "fhqvvdzTE9uU",
        "outputId": "05125c74-fefb-406c-ea61-f48180fe76fb"
      },
      "execution_count": null,
      "outputs": [
        {
          "output_type": "execute_result",
          "data": {
            "text/plain": [
              "dict_keys(['data', 'target', 'frame', 'target_names', 'DESCR', 'feature_names', 'filename', 'data_module'])"
            ]
          },
          "metadata": {},
          "execution_count": 22
        }
      ]
    },
    {
      "cell_type": "code",
      "source": [
        "# data has 30 different feat col and contains 569 different instances \n",
        "print(f\"data shape : {data['data'].shape}\")\n",
        "# data is np array type \n",
        "type(data[\"data\"])"
      ],
      "metadata": {
        "colab": {
          "base_uri": "https://localhost:8080/"
        },
        "id": "urGdol3QFF4N",
        "outputId": "0d17dd0c-d9bb-49b0-aff9-aa096d3546e2"
      },
      "execution_count": null,
      "outputs": [
        {
          "output_type": "stream",
          "name": "stdout",
          "text": [
            "data shape : (569, 30)\n"
          ]
        },
        {
          "output_type": "execute_result",
          "data": {
            "text/plain": [
              "numpy.ndarray"
            ]
          },
          "metadata": {},
          "execution_count": 23
        }
      ]
    },
    {
      "cell_type": "code",
      "source": [
        "# target is a 1d vector with similar Rows as data \n",
        "print(data[\"target\"].shape)\n",
        "data[\"target\"][:50]"
      ],
      "metadata": {
        "colab": {
          "base_uri": "https://localhost:8080/"
        },
        "id": "umm-ZxBoFTwT",
        "outputId": "08cc4789-f558-4d31-840b-783e63e9ab82"
      },
      "execution_count": null,
      "outputs": [
        {
          "output_type": "stream",
          "name": "stdout",
          "text": [
            "(569,)\n"
          ]
        },
        {
          "output_type": "execute_result",
          "data": {
            "text/plain": [
              "array([0, 0, 0, 0, 0, 0, 0, 0, 0, 0, 0, 0, 0, 0, 0, 0, 0, 0, 0, 1, 1, 1,\n",
              "       0, 0, 0, 0, 0, 0, 0, 0, 0, 0, 0, 0, 0, 0, 0, 1, 0, 0, 0, 0, 0, 0,\n",
              "       0, 0, 1, 0, 1, 1])"
            ]
          },
          "metadata": {},
          "execution_count": 24
        }
      ]
    },
    {
      "cell_type": "code",
      "source": [
        "# splitting the data\n",
        "from sklearn.model_selection import train_test_split\n",
        "\n",
        "x_train, x_test, y_train, y_test = train_test_split(data[\"data\"], data[\"target\"], \n",
        "                                                    test_size=0.25)\n",
        "\n",
        "N, D = x_train.shape"
      ],
      "metadata": {
        "id": "9Gw903OJFkHj"
      },
      "execution_count": null,
      "outputs": []
    },
    {
      "cell_type": "code",
      "source": [
        "# scaling data \n",
        "from sklearn.preprocessing import StandardScaler\n",
        "\n",
        "scaler = StandardScaler()\n",
        "# we use training data to get scaling properties to use in all new data later\n",
        "x_train = scaler.fit_transform(x_train)\n",
        "x_test = scaler.transform(x_test)"
      ],
      "metadata": {
        "id": "CTataupHHnFb"
      },
      "execution_count": null,
      "outputs": []
    },
    {
      "cell_type": "code",
      "source": [
        "###### building the tf dense model\n",
        "model = tf.keras.models.Sequential([\n",
        "            tf.keras.layers.Input(shape=(D,)),\n",
        "            tf.keras.layers.Dense(1, activation='sigmoid')\n",
        "])\n",
        "\n",
        "model.compile(optimizer='adam',\n",
        "              loss='binary_crossentropy',\n",
        "              metrics=['accuracy'])\n",
        "\n",
        "r = model.fit(x_train, y_train, validation_data=(x_test,y_test), epochs = 60)\n",
        "\n",
        "\n",
        "print(\"Train score: \", model.evaluate(x_train, y_train))\n",
        "print(\"Test score: \", model.evaluate(x_test, y_test))"
      ],
      "metadata": {
        "colab": {
          "base_uri": "https://localhost:8080/"
        },
        "id": "X5FA0XU2H4dx",
        "outputId": "367170ba-6882-4e0b-c786-efaedbb75af8"
      },
      "execution_count": null,
      "outputs": [
        {
          "output_type": "stream",
          "name": "stdout",
          "text": [
            "Epoch 1/60\n",
            "14/14 [==============================] - 1s 24ms/step - loss: 0.5821 - accuracy: 0.7042 - val_loss: 0.5534 - val_accuracy: 0.7133\n",
            "Epoch 2/60\n",
            "14/14 [==============================] - 0s 10ms/step - loss: 0.5218 - accuracy: 0.7535 - val_loss: 0.5019 - val_accuracy: 0.7552\n",
            "Epoch 3/60\n",
            "14/14 [==============================] - 0s 10ms/step - loss: 0.4720 - accuracy: 0.7958 - val_loss: 0.4610 - val_accuracy: 0.7902\n",
            "Epoch 4/60\n",
            "14/14 [==============================] - 0s 10ms/step - loss: 0.4316 - accuracy: 0.8310 - val_loss: 0.4276 - val_accuracy: 0.8112\n",
            "Epoch 5/60\n",
            "14/14 [==============================] - 0s 12ms/step - loss: 0.3977 - accuracy: 0.8568 - val_loss: 0.4007 - val_accuracy: 0.8322\n",
            "Epoch 6/60\n",
            "14/14 [==============================] - 0s 8ms/step - loss: 0.3699 - accuracy: 0.8756 - val_loss: 0.3787 - val_accuracy: 0.8531\n",
            "Epoch 7/60\n",
            "14/14 [==============================] - 0s 10ms/step - loss: 0.3465 - accuracy: 0.8850 - val_loss: 0.3589 - val_accuracy: 0.8811\n",
            "Epoch 8/60\n",
            "14/14 [==============================] - 0s 10ms/step - loss: 0.3267 - accuracy: 0.9038 - val_loss: 0.3422 - val_accuracy: 0.8881\n",
            "Epoch 9/60\n",
            "14/14 [==============================] - 0s 7ms/step - loss: 0.3088 - accuracy: 0.9131 - val_loss: 0.3278 - val_accuracy: 0.8881\n",
            "Epoch 10/60\n",
            "14/14 [==============================] - 0s 10ms/step - loss: 0.2937 - accuracy: 0.9131 - val_loss: 0.3150 - val_accuracy: 0.8881\n",
            "Epoch 11/60\n",
            "14/14 [==============================] - 0s 13ms/step - loss: 0.2803 - accuracy: 0.9178 - val_loss: 0.3030 - val_accuracy: 0.8881\n",
            "Epoch 12/60\n",
            "14/14 [==============================] - 0s 10ms/step - loss: 0.2684 - accuracy: 0.9249 - val_loss: 0.2930 - val_accuracy: 0.8881\n",
            "Epoch 13/60\n",
            "14/14 [==============================] - 0s 9ms/step - loss: 0.2577 - accuracy: 0.9249 - val_loss: 0.2841 - val_accuracy: 0.8881\n",
            "Epoch 14/60\n",
            "14/14 [==============================] - 0s 8ms/step - loss: 0.2480 - accuracy: 0.9249 - val_loss: 0.2763 - val_accuracy: 0.8881\n",
            "Epoch 15/60\n",
            "14/14 [==============================] - 0s 9ms/step - loss: 0.2394 - accuracy: 0.9249 - val_loss: 0.2685 - val_accuracy: 0.8951\n",
            "Epoch 16/60\n",
            "14/14 [==============================] - 0s 8ms/step - loss: 0.2312 - accuracy: 0.9272 - val_loss: 0.2617 - val_accuracy: 0.8881\n",
            "Epoch 17/60\n",
            "14/14 [==============================] - 0s 7ms/step - loss: 0.2236 - accuracy: 0.9319 - val_loss: 0.2556 - val_accuracy: 0.8951\n",
            "Epoch 18/60\n",
            "14/14 [==============================] - 0s 7ms/step - loss: 0.2167 - accuracy: 0.9343 - val_loss: 0.2493 - val_accuracy: 0.8951\n",
            "Epoch 19/60\n",
            "14/14 [==============================] - 0s 10ms/step - loss: 0.2103 - accuracy: 0.9343 - val_loss: 0.2431 - val_accuracy: 0.9021\n",
            "Epoch 20/60\n",
            "14/14 [==============================] - 0s 8ms/step - loss: 0.2045 - accuracy: 0.9366 - val_loss: 0.2378 - val_accuracy: 0.9021\n",
            "Epoch 21/60\n",
            "14/14 [==============================] - 0s 9ms/step - loss: 0.1988 - accuracy: 0.9366 - val_loss: 0.2328 - val_accuracy: 0.9021\n",
            "Epoch 22/60\n",
            "14/14 [==============================] - 0s 8ms/step - loss: 0.1936 - accuracy: 0.9366 - val_loss: 0.2270 - val_accuracy: 0.9091\n",
            "Epoch 23/60\n",
            "14/14 [==============================] - 0s 9ms/step - loss: 0.1887 - accuracy: 0.9366 - val_loss: 0.2223 - val_accuracy: 0.9091\n",
            "Epoch 24/60\n",
            "14/14 [==============================] - 0s 7ms/step - loss: 0.1840 - accuracy: 0.9390 - val_loss: 0.2180 - val_accuracy: 0.9091\n",
            "Epoch 25/60\n",
            "14/14 [==============================] - 0s 8ms/step - loss: 0.1797 - accuracy: 0.9390 - val_loss: 0.2142 - val_accuracy: 0.9161\n",
            "Epoch 26/60\n",
            "14/14 [==============================] - 0s 8ms/step - loss: 0.1757 - accuracy: 0.9390 - val_loss: 0.2097 - val_accuracy: 0.9161\n",
            "Epoch 27/60\n",
            "14/14 [==============================] - 0s 10ms/step - loss: 0.1718 - accuracy: 0.9413 - val_loss: 0.2063 - val_accuracy: 0.9161\n",
            "Epoch 28/60\n",
            "14/14 [==============================] - 0s 9ms/step - loss: 0.1682 - accuracy: 0.9413 - val_loss: 0.2030 - val_accuracy: 0.9161\n",
            "Epoch 29/60\n",
            "14/14 [==============================] - 0s 12ms/step - loss: 0.1647 - accuracy: 0.9413 - val_loss: 0.1999 - val_accuracy: 0.9231\n",
            "Epoch 30/60\n",
            "14/14 [==============================] - 0s 9ms/step - loss: 0.1615 - accuracy: 0.9413 - val_loss: 0.1964 - val_accuracy: 0.9231\n",
            "Epoch 31/60\n",
            "14/14 [==============================] - 0s 9ms/step - loss: 0.1584 - accuracy: 0.9413 - val_loss: 0.1937 - val_accuracy: 0.9231\n",
            "Epoch 32/60\n",
            "14/14 [==============================] - 0s 8ms/step - loss: 0.1554 - accuracy: 0.9413 - val_loss: 0.1907 - val_accuracy: 0.9231\n",
            "Epoch 33/60\n",
            "14/14 [==============================] - 0s 15ms/step - loss: 0.1525 - accuracy: 0.9437 - val_loss: 0.1882 - val_accuracy: 0.9231\n",
            "Epoch 34/60\n",
            "14/14 [==============================] - 0s 11ms/step - loss: 0.1498 - accuracy: 0.9460 - val_loss: 0.1857 - val_accuracy: 0.9231\n",
            "Epoch 35/60\n",
            "14/14 [==============================] - 0s 9ms/step - loss: 0.1473 - accuracy: 0.9484 - val_loss: 0.1833 - val_accuracy: 0.9231\n",
            "Epoch 36/60\n",
            "14/14 [==============================] - 0s 11ms/step - loss: 0.1448 - accuracy: 0.9507 - val_loss: 0.1813 - val_accuracy: 0.9231\n",
            "Epoch 37/60\n",
            "14/14 [==============================] - 0s 14ms/step - loss: 0.1424 - accuracy: 0.9554 - val_loss: 0.1790 - val_accuracy: 0.9231\n",
            "Epoch 38/60\n",
            "14/14 [==============================] - 0s 8ms/step - loss: 0.1402 - accuracy: 0.9554 - val_loss: 0.1767 - val_accuracy: 0.9231\n",
            "Epoch 39/60\n",
            "14/14 [==============================] - 0s 13ms/step - loss: 0.1380 - accuracy: 0.9601 - val_loss: 0.1745 - val_accuracy: 0.9231\n",
            "Epoch 40/60\n",
            "14/14 [==============================] - 0s 12ms/step - loss: 0.1359 - accuracy: 0.9601 - val_loss: 0.1728 - val_accuracy: 0.9231\n",
            "Epoch 41/60\n",
            "14/14 [==============================] - 0s 11ms/step - loss: 0.1339 - accuracy: 0.9624 - val_loss: 0.1706 - val_accuracy: 0.9301\n",
            "Epoch 42/60\n",
            "14/14 [==============================] - 0s 13ms/step - loss: 0.1320 - accuracy: 0.9624 - val_loss: 0.1687 - val_accuracy: 0.9301\n",
            "Epoch 43/60\n",
            "14/14 [==============================] - 0s 9ms/step - loss: 0.1301 - accuracy: 0.9624 - val_loss: 0.1669 - val_accuracy: 0.9301\n",
            "Epoch 44/60\n",
            "14/14 [==============================] - 0s 11ms/step - loss: 0.1283 - accuracy: 0.9648 - val_loss: 0.1652 - val_accuracy: 0.9301\n",
            "Epoch 45/60\n",
            "14/14 [==============================] - 0s 11ms/step - loss: 0.1266 - accuracy: 0.9648 - val_loss: 0.1635 - val_accuracy: 0.9301\n",
            "Epoch 46/60\n",
            "14/14 [==============================] - 0s 10ms/step - loss: 0.1249 - accuracy: 0.9695 - val_loss: 0.1617 - val_accuracy: 0.9301\n",
            "Epoch 47/60\n",
            "14/14 [==============================] - 0s 7ms/step - loss: 0.1233 - accuracy: 0.9695 - val_loss: 0.1605 - val_accuracy: 0.9301\n",
            "Epoch 48/60\n",
            "14/14 [==============================] - 0s 8ms/step - loss: 0.1218 - accuracy: 0.9695 - val_loss: 0.1591 - val_accuracy: 0.9301\n",
            "Epoch 49/60\n",
            "14/14 [==============================] - 0s 8ms/step - loss: 0.1202 - accuracy: 0.9695 - val_loss: 0.1576 - val_accuracy: 0.9371\n",
            "Epoch 50/60\n",
            "14/14 [==============================] - 0s 13ms/step - loss: 0.1188 - accuracy: 0.9695 - val_loss: 0.1560 - val_accuracy: 0.9371\n",
            "Epoch 51/60\n",
            "14/14 [==============================] - 0s 8ms/step - loss: 0.1173 - accuracy: 0.9695 - val_loss: 0.1547 - val_accuracy: 0.9371\n",
            "Epoch 52/60\n",
            "14/14 [==============================] - 0s 10ms/step - loss: 0.1160 - accuracy: 0.9695 - val_loss: 0.1532 - val_accuracy: 0.9441\n",
            "Epoch 53/60\n",
            "14/14 [==============================] - 0s 12ms/step - loss: 0.1146 - accuracy: 0.9695 - val_loss: 0.1519 - val_accuracy: 0.9510\n",
            "Epoch 54/60\n",
            "14/14 [==============================] - 0s 9ms/step - loss: 0.1133 - accuracy: 0.9695 - val_loss: 0.1506 - val_accuracy: 0.9510\n",
            "Epoch 55/60\n",
            "14/14 [==============================] - 0s 10ms/step - loss: 0.1121 - accuracy: 0.9695 - val_loss: 0.1493 - val_accuracy: 0.9510\n",
            "Epoch 56/60\n",
            "14/14 [==============================] - 0s 9ms/step - loss: 0.1108 - accuracy: 0.9695 - val_loss: 0.1482 - val_accuracy: 0.9510\n",
            "Epoch 57/60\n",
            "14/14 [==============================] - 0s 12ms/step - loss: 0.1096 - accuracy: 0.9695 - val_loss: 0.1473 - val_accuracy: 0.9510\n",
            "Epoch 58/60\n",
            "14/14 [==============================] - 0s 8ms/step - loss: 0.1084 - accuracy: 0.9695 - val_loss: 0.1461 - val_accuracy: 0.9510\n",
            "Epoch 59/60\n",
            "14/14 [==============================] - 0s 11ms/step - loss: 0.1073 - accuracy: 0.9695 - val_loss: 0.1449 - val_accuracy: 0.9510\n",
            "Epoch 60/60\n",
            "14/14 [==============================] - 0s 14ms/step - loss: 0.1062 - accuracy: 0.9695 - val_loss: 0.1439 - val_accuracy: 0.9510\n",
            "14/14 [==============================] - 0s 6ms/step - loss: 0.1056 - accuracy: 0.9695\n",
            "Train score:  [0.10564064234495163, 0.9694835543632507]\n",
            "5/5 [==============================] - 0s 5ms/step - loss: 0.1439 - accuracy: 0.9510\n",
            "Test score:  [0.1438666582107544, 0.9510489702224731]\n"
          ]
        }
      ]
    },
    {
      "cell_type": "code",
      "source": [
        "import matplotlib.pyplot as plt\n",
        "plt.plot(r.history['loss'], label='train_loss')\n",
        "plt.plot(r.history['val_loss'], label='val_loss')\n",
        "plt.legend()"
      ],
      "metadata": {
        "colab": {
          "base_uri": "https://localhost:8080/",
          "height": 285
        },
        "id": "iQSAGFumH4gZ",
        "outputId": "ec9f0c31-6672-4d2b-c50c-817845fef3c8"
      },
      "execution_count": null,
      "outputs": [
        {
          "output_type": "execute_result",
          "data": {
            "text/plain": [
              "<matplotlib.legend.Legend at 0x7f85309bf7d0>"
            ]
          },
          "metadata": {},
          "execution_count": 28
        },
        {
          "output_type": "display_data",
          "data": {
            "text/plain": [
              "<Figure size 432x288 with 1 Axes>"
            ],
            "image/png": "[encoded data removed]"
          },
          "metadata": {
            "needs_background": "light"
          }
        }
      ]
    },
    {
      "cell_type": "code",
      "source": [
        "import matplotlib.pyplot as plt\n",
        "plt.plot(r.history['accuracy'], label='acc')\n",
        "plt.plot(r.history['val_accuracy'], label='val_acc')\n",
        "plt.legend()"
      ],
      "metadata": {
        "colab": {
          "base_uri": "https://localhost:8080/",
          "height": 284
        },
        "id": "FtXqSvwtH4jL",
        "outputId": "be59e30a-2c43-46eb-fcc4-db3176eea5b3"
      },
      "execution_count": null,
      "outputs": [
        {
          "output_type": "execute_result",
          "data": {
            "text/plain": [
              "<matplotlib.legend.Legend at 0x7f84b11e3910>"
            ]
          },
          "metadata": {},
          "execution_count": 29
        },
        {
          "output_type": "display_data",
          "data": {
            "text/plain": [
              "<Figure size 432x288 with 1 Axes>"
            ],
            "image/png": "[encoded data removed]"
          },
          "metadata": {
            "needs_background": "light"
          }
        }
      ]
    },
    {
      "cell_type": "code",
      "source": [
        "# make prediction \n",
        "pred = model.predict(x_test)\n",
        "pred[:5]"
      ],
      "metadata": {
        "id": "A5QpuNSQH4l0",
        "colab": {
          "base_uri": "https://localhost:8080/"
        },
        "outputId": "9e9743fe-af1d-4e00-9a67-85a775124876"
      },
      "execution_count": null,
      "outputs": [
        {
          "output_type": "execute_result",
          "data": {
            "text/plain": [
              "array([[0.97582054],\n",
              "       [0.9906116 ],\n",
              "       [0.60333073],\n",
              "       [0.9970842 ],\n",
              "       [0.74640894]], dtype=float32)"
            ]
          },
          "metadata": {},
          "execution_count": 35
        }
      ]
    },
    {
      "cell_type": "code",
      "source": [
        "# we need to transorm and round all predicted results to 0 or 1 \n",
        "import numpy as np\n",
        "pred_transform = np.round(pred) \n",
        "pred_transform.shape"
      ],
      "metadata": {
        "id": "5_qmTJSyH4ov",
        "colab": {
          "base_uri": "https://localhost:8080/"
        },
        "outputId": "77e253f5-5f93-4256-8812-e9e34d3956cf"
      },
      "execution_count": null,
      "outputs": [
        {
          "output_type": "execute_result",
          "data": {
            "text/plain": [
              "(143, 1)"
            ]
          },
          "metadata": {},
          "execution_count": 36
        }
      ]
    },
    {
      "cell_type": "code",
      "source": [
        "y_test.shape"
      ],
      "metadata": {
        "colab": {
          "base_uri": "https://localhost:8080/"
        },
        "id": "TFMsT30PFVV1",
        "outputId": "1af7dfd0-504c-458d-c157-961029f382da"
      },
      "execution_count": null,
      "outputs": [
        {
          "output_type": "execute_result",
          "data": {
            "text/plain": [
              "(143,)"
            ]
          },
          "metadata": {},
          "execution_count": 37
        }
      ]
    },
    {
      "cell_type": "code",
      "source": [
        "# we need to flatten our pred so it has same dimension as y_test\n",
        "pred_transform = pred_transform.flatten()"
      ],
      "metadata": {
        "id": "sXU1vE5ZFYWs"
      },
      "execution_count": null,
      "outputs": []
    },
    {
      "cell_type": "code",
      "source": [
        "# get the model peformance manully \n",
        "print(f\"model peformance ('manually'): {np.mean(pred_transform == y_test)}\")"
      ],
      "metadata": {
        "colab": {
          "base_uri": "https://localhost:8080/"
        },
        "id": "cVS5zMccF681",
        "outputId": "c386e552-b875-4f40-c722-64e80eaaabd7"
      },
      "execution_count": null,
      "outputs": [
        {
          "output_type": "stream",
          "name": "stdout",
          "text": [
            "model peformance ('manually'): 0.951048951048951\n"
          ]
        }
      ]
    },
    {
      "cell_type": "code",
      "source": [
        "# get model peformance using keras \n",
        "print(f\"model peformance ('keras'): {model.evaluate(x_test, y_test)}\")"
      ],
      "metadata": {
        "colab": {
          "base_uri": "https://localhost:8080/"
        },
        "id": "FPEQYU4LGupV",
        "outputId": "423cd57a-e35f-4a63-ebf9-b9bb9dda98b0"
      },
      "execution_count": null,
      "outputs": [
        {
          "output_type": "stream",
          "name": "stdout",
          "text": [
            "5/5 [==============================] - 0s 3ms/step - loss: 0.1439 - accuracy: 0.9510\n",
            "model peformance ('keras'): [0.1438666582107544, 0.9510489702224731]\n"
          ]
        }
      ]
    },
    {
      "cell_type": "code",
      "source": [
        ""
      ],
      "metadata": {
        "id": "SxNOBjdXHarM"
      },
      "execution_count": null,
      "outputs": []
    }
  ]
}