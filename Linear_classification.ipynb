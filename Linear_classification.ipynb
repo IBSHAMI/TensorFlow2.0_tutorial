{
  "nbformat": 4,
  "nbformat_minor": 0,
  "metadata": {
    "colab": {
      "name": "Linear_classification.ipynb",
      "provenance": [],
      "collapsed_sections": []
    },
    "kernelspec": {
      "name": "python3",
      "display_name": "Python 3"
    },
    "language_info": {
      "name": "python"
    },
    "accelerator": "GPU"
  },
  "cells": [
    {
      "cell_type": "code",
      "execution_count": 22,
      "metadata": {
        "id": "kDct3rWKGq6s",
        "colab": {
          "base_uri": "https://localhost:8080/"
        },
        "outputId": "7481ded3-be78-4e8f-bb2a-43481874d75a"
      },
      "outputs": [
        {
          "output_type": "stream",
          "name": "stdout",
          "text": [
            "2.8.0\n"
          ]
        }
      ],
      "source": [
        "import tensorflow as tf\n",
        "from sklearn.datasets import load_breast_cancer\n",
        "print(tf.__version__)"
      ]
    },
    {
      "cell_type": "code",
      "source": [
        "data = load_breast_cancer()\n",
        "type(data)"
      ],
      "metadata": {
        "colab": {
          "base_uri": "https://localhost:8080/"
        },
        "id": "-qUXqloKEfxW",
        "outputId": "d83afe02-2526-4260-936a-b22803b683e8"
      },
      "execution_count": 23,
      "outputs": [
        {
          "output_type": "execute_result",
          "data": {
            "text/plain": [
              "sklearn.utils.Bunch"
            ]
          },
          "metadata": {},
          "execution_count": 23
        }
      ]
    },
    {
      "cell_type": "code",
      "source": [
        "# data is a dict type \n",
        "data.keys()"
      ],
      "metadata": {
        "colab": {
          "base_uri": "https://localhost:8080/"
        },
        "id": "fhqvvdzTE9uU",
        "outputId": "ecd61f8f-5b41-4da1-9857-2ab02b9da921"
      },
      "execution_count": 24,
      "outputs": [
        {
          "output_type": "execute_result",
          "data": {
            "text/plain": [
              "dict_keys(['data', 'target', 'frame', 'target_names', 'DESCR', 'feature_names', 'filename', 'data_module'])"
            ]
          },
          "metadata": {},
          "execution_count": 24
        }
      ]
    },
    {
      "cell_type": "code",
      "source": [
        "# data has 30 different feat col and contains 569 different instances \n",
        "print(f\"data shape : {data['data'].shape}\")\n",
        "# data is np array type \n",
        "type(data[\"data\"])"
      ],
      "metadata": {
        "colab": {
          "base_uri": "https://localhost:8080/"
        },
        "id": "urGdol3QFF4N",
        "outputId": "3cc5fe4b-1a88-45fe-e7e3-d4cc04bf0411"
      },
      "execution_count": 25,
      "outputs": [
        {
          "output_type": "stream",
          "name": "stdout",
          "text": [
            "data shape : (569, 30)\n"
          ]
        },
        {
          "output_type": "execute_result",
          "data": {
            "text/plain": [
              "numpy.ndarray"
            ]
          },
          "metadata": {},
          "execution_count": 25
        }
      ]
    },
    {
      "cell_type": "code",
      "source": [
        "# target is a 1d vector with similar Rows as data \n",
        "print(data[\"target\"].shape)\n",
        "data[\"target\"][:50]"
      ],
      "metadata": {
        "colab": {
          "base_uri": "https://localhost:8080/"
        },
        "id": "umm-ZxBoFTwT",
        "outputId": "22bf916d-7aaf-4661-8f4b-ebcaf4b6af9d"
      },
      "execution_count": 26,
      "outputs": [
        {
          "output_type": "stream",
          "name": "stdout",
          "text": [
            "(569,)\n"
          ]
        },
        {
          "output_type": "execute_result",
          "data": {
            "text/plain": [
              "array([0, 0, 0, 0, 0, 0, 0, 0, 0, 0, 0, 0, 0, 0, 0, 0, 0, 0, 0, 1, 1, 1,\n",
              "       0, 0, 0, 0, 0, 0, 0, 0, 0, 0, 0, 0, 0, 0, 0, 1, 0, 0, 0, 0, 0, 0,\n",
              "       0, 0, 1, 0, 1, 1])"
            ]
          },
          "metadata": {},
          "execution_count": 26
        }
      ]
    },
    {
      "cell_type": "code",
      "source": [
        "# splitting the data\n",
        "from sklearn.model_selection import train_test_split\n",
        "\n",
        "x_train, x_test, y_train, y_test = train_test_split(data[\"data\"], data[\"target\"], \n",
        "                                                    test_size=0.25)\n",
        "\n",
        "N, D = x_train.shape"
      ],
      "metadata": {
        "id": "9Gw903OJFkHj"
      },
      "execution_count": 27,
      "outputs": []
    },
    {
      "cell_type": "code",
      "source": [
        "# scaling data \n",
        "from sklearn.preprocessing import StandardScaler\n",
        "\n",
        "scaler = StandardScaler()\n",
        "# we use training data to get scaling properties to use in all new data later\n",
        "x_train = scaler.fit_transform(x_train)\n",
        "x_test = scaler.transform(x_test)"
      ],
      "metadata": {
        "id": "CTataupHHnFb"
      },
      "execution_count": 28,
      "outputs": []
    },
    {
      "cell_type": "code",
      "source": [
        "###### building the tf dense model\n",
        "model = tf.keras.models.Sequential([\n",
        "            tf.keras.layers.Input(shape=(D,)),\n",
        "            tf.keras.layers.Dense(1, activation='sigmoid')\n",
        "])\n",
        "\n",
        "model.compile(optimizer='adam',\n",
        "              loss='binary_crossentropy',\n",
        "              metrics=['accuracy'])\n",
        "\n",
        "r = model.fit(x_train, y_train, validation_data=(x_test,y_test), epochs = 60)\n",
        "\n",
        "\n",
        "print(\"Train score: \", model.evaluate(x_train, y_train))\n",
        "print(\"Test score: \", model.evaluate(x_test, y_test))"
      ],
      "metadata": {
        "colab": {
          "base_uri": "https://localhost:8080/"
        },
        "id": "X5FA0XU2H4dx",
        "outputId": "0e15cdac-47fc-4d03-dd4f-47839f433e6e"
      },
      "execution_count": 42,
      "outputs": [
        {
          "output_type": "stream",
          "name": "stdout",
          "text": [
            "Epoch 1/60\n",
            "14/14 [==============================] - 1s 26ms/step - loss: 1.1850 - accuracy: 0.2958 - val_loss: 1.2820 - val_accuracy: 0.2448\n",
            "Epoch 2/60\n",
            "14/14 [==============================] - 0s 9ms/step - loss: 1.0773 - accuracy: 0.3662 - val_loss: 1.1523 - val_accuracy: 0.2937\n",
            "Epoch 3/60\n",
            "14/14 [==============================] - 0s 9ms/step - loss: 0.9830 - accuracy: 0.4272 - val_loss: 1.0340 - val_accuracy: 0.3706\n",
            "Epoch 4/60\n",
            "14/14 [==============================] - 0s 14ms/step - loss: 0.8959 - accuracy: 0.4859 - val_loss: 0.9301 - val_accuracy: 0.4336\n",
            "Epoch 5/60\n",
            "14/14 [==============================] - 0s 9ms/step - loss: 0.8188 - accuracy: 0.5282 - val_loss: 0.8410 - val_accuracy: 0.4755\n",
            "Epoch 6/60\n",
            "14/14 [==============================] - 0s 10ms/step - loss: 0.7523 - accuracy: 0.5775 - val_loss: 0.7614 - val_accuracy: 0.5385\n",
            "Epoch 7/60\n",
            "14/14 [==============================] - 0s 9ms/step - loss: 0.6927 - accuracy: 0.6197 - val_loss: 0.6915 - val_accuracy: 0.6084\n",
            "Epoch 8/60\n",
            "14/14 [==============================] - 0s 10ms/step - loss: 0.6398 - accuracy: 0.6737 - val_loss: 0.6320 - val_accuracy: 0.6853\n",
            "Epoch 9/60\n",
            "14/14 [==============================] - 0s 10ms/step - loss: 0.5938 - accuracy: 0.7066 - val_loss: 0.5793 - val_accuracy: 0.7273\n",
            "Epoch 10/60\n",
            "14/14 [==============================] - 0s 14ms/step - loss: 0.5515 - accuracy: 0.7254 - val_loss: 0.5360 - val_accuracy: 0.7762\n",
            "Epoch 11/60\n",
            "14/14 [==============================] - 0s 18ms/step - loss: 0.5167 - accuracy: 0.7770 - val_loss: 0.4982 - val_accuracy: 0.8042\n",
            "Epoch 12/60\n",
            "14/14 [==============================] - 0s 18ms/step - loss: 0.4851 - accuracy: 0.8122 - val_loss: 0.4651 - val_accuracy: 0.8252\n",
            "Epoch 13/60\n",
            "14/14 [==============================] - 0s 15ms/step - loss: 0.4574 - accuracy: 0.8286 - val_loss: 0.4367 - val_accuracy: 0.8322\n",
            "Epoch 14/60\n",
            "14/14 [==============================] - 0s 9ms/step - loss: 0.4329 - accuracy: 0.8404 - val_loss: 0.4114 - val_accuracy: 0.8601\n",
            "Epoch 15/60\n",
            "14/14 [==============================] - 0s 5ms/step - loss: 0.4112 - accuracy: 0.8474 - val_loss: 0.3896 - val_accuracy: 0.8741\n",
            "Epoch 16/60\n",
            "14/14 [==============================] - 0s 6ms/step - loss: 0.3916 - accuracy: 0.8638 - val_loss: 0.3705 - val_accuracy: 0.8881\n",
            "Epoch 17/60\n",
            "14/14 [==============================] - 0s 6ms/step - loss: 0.3741 - accuracy: 0.8756 - val_loss: 0.3533 - val_accuracy: 0.8951\n",
            "Epoch 18/60\n",
            "14/14 [==============================] - 0s 5ms/step - loss: 0.3591 - accuracy: 0.8803 - val_loss: 0.3371 - val_accuracy: 0.9021\n",
            "Epoch 19/60\n",
            "14/14 [==============================] - 0s 7ms/step - loss: 0.3435 - accuracy: 0.8897 - val_loss: 0.3236 - val_accuracy: 0.9091\n",
            "Epoch 20/60\n",
            "14/14 [==============================] - 0s 6ms/step - loss: 0.3305 - accuracy: 0.8944 - val_loss: 0.3109 - val_accuracy: 0.9161\n",
            "Epoch 21/60\n",
            "14/14 [==============================] - 0s 6ms/step - loss: 0.3183 - accuracy: 0.8991 - val_loss: 0.2994 - val_accuracy: 0.9231\n",
            "Epoch 22/60\n",
            "14/14 [==============================] - 0s 6ms/step - loss: 0.3075 - accuracy: 0.9061 - val_loss: 0.2887 - val_accuracy: 0.9301\n",
            "Epoch 23/60\n",
            "14/14 [==============================] - 0s 7ms/step - loss: 0.2969 - accuracy: 0.9085 - val_loss: 0.2789 - val_accuracy: 0.9301\n",
            "Epoch 24/60\n",
            "14/14 [==============================] - 0s 5ms/step - loss: 0.2875 - accuracy: 0.9108 - val_loss: 0.2697 - val_accuracy: 0.9301\n",
            "Epoch 25/60\n",
            "14/14 [==============================] - 0s 6ms/step - loss: 0.2779 - accuracy: 0.9155 - val_loss: 0.2614 - val_accuracy: 0.9301\n",
            "Epoch 26/60\n",
            "14/14 [==============================] - 0s 6ms/step - loss: 0.2698 - accuracy: 0.9202 - val_loss: 0.2539 - val_accuracy: 0.9371\n",
            "Epoch 27/60\n",
            "14/14 [==============================] - 0s 5ms/step - loss: 0.2622 - accuracy: 0.9202 - val_loss: 0.2468 - val_accuracy: 0.9441\n",
            "Epoch 28/60\n",
            "14/14 [==============================] - 0s 6ms/step - loss: 0.2553 - accuracy: 0.9202 - val_loss: 0.2401 - val_accuracy: 0.9510\n",
            "Epoch 29/60\n",
            "14/14 [==============================] - 0s 7ms/step - loss: 0.2484 - accuracy: 0.9225 - val_loss: 0.2339 - val_accuracy: 0.9510\n",
            "Epoch 30/60\n",
            "14/14 [==============================] - 0s 5ms/step - loss: 0.2422 - accuracy: 0.9249 - val_loss: 0.2282 - val_accuracy: 0.9510\n",
            "Epoch 31/60\n",
            "14/14 [==============================] - 0s 7ms/step - loss: 0.2363 - accuracy: 0.9272 - val_loss: 0.2229 - val_accuracy: 0.9510\n",
            "Epoch 32/60\n",
            "14/14 [==============================] - 0s 6ms/step - loss: 0.2308 - accuracy: 0.9296 - val_loss: 0.2178 - val_accuracy: 0.9510\n",
            "Epoch 33/60\n",
            "14/14 [==============================] - 0s 6ms/step - loss: 0.2255 - accuracy: 0.9319 - val_loss: 0.2131 - val_accuracy: 0.9510\n",
            "Epoch 34/60\n",
            "14/14 [==============================] - 0s 6ms/step - loss: 0.2207 - accuracy: 0.9366 - val_loss: 0.2086 - val_accuracy: 0.9510\n",
            "Epoch 35/60\n",
            "14/14 [==============================] - 0s 6ms/step - loss: 0.2159 - accuracy: 0.9390 - val_loss: 0.2042 - val_accuracy: 0.9510\n",
            "Epoch 36/60\n",
            "14/14 [==============================] - 0s 6ms/step - loss: 0.2113 - accuracy: 0.9390 - val_loss: 0.2001 - val_accuracy: 0.9510\n",
            "Epoch 37/60\n",
            "14/14 [==============================] - 0s 6ms/step - loss: 0.2069 - accuracy: 0.9460 - val_loss: 0.1962 - val_accuracy: 0.9510\n",
            "Epoch 38/60\n",
            "14/14 [==============================] - 0s 6ms/step - loss: 0.2030 - accuracy: 0.9460 - val_loss: 0.1925 - val_accuracy: 0.9580\n",
            "Epoch 39/60\n",
            "14/14 [==============================] - 0s 6ms/step - loss: 0.1990 - accuracy: 0.9484 - val_loss: 0.1890 - val_accuracy: 0.9580\n",
            "Epoch 40/60\n",
            "14/14 [==============================] - 0s 6ms/step - loss: 0.1953 - accuracy: 0.9484 - val_loss: 0.1856 - val_accuracy: 0.9580\n",
            "Epoch 41/60\n",
            "14/14 [==============================] - 0s 6ms/step - loss: 0.1918 - accuracy: 0.9484 - val_loss: 0.1824 - val_accuracy: 0.9580\n",
            "Epoch 42/60\n",
            "14/14 [==============================] - 0s 6ms/step - loss: 0.1883 - accuracy: 0.9507 - val_loss: 0.1794 - val_accuracy: 0.9580\n",
            "Epoch 43/60\n",
            "14/14 [==============================] - 0s 6ms/step - loss: 0.1850 - accuracy: 0.9507 - val_loss: 0.1766 - val_accuracy: 0.9580\n",
            "Epoch 44/60\n",
            "14/14 [==============================] - 0s 6ms/step - loss: 0.1821 - accuracy: 0.9507 - val_loss: 0.1739 - val_accuracy: 0.9580\n",
            "Epoch 45/60\n",
            "14/14 [==============================] - 0s 6ms/step - loss: 0.1791 - accuracy: 0.9531 - val_loss: 0.1713 - val_accuracy: 0.9580\n",
            "Epoch 46/60\n",
            "14/14 [==============================] - 0s 7ms/step - loss: 0.1762 - accuracy: 0.9554 - val_loss: 0.1688 - val_accuracy: 0.9580\n",
            "Epoch 47/60\n",
            "14/14 [==============================] - 0s 6ms/step - loss: 0.1736 - accuracy: 0.9554 - val_loss: 0.1663 - val_accuracy: 0.9580\n",
            "Epoch 48/60\n",
            "14/14 [==============================] - 0s 6ms/step - loss: 0.1709 - accuracy: 0.9577 - val_loss: 0.1640 - val_accuracy: 0.9580\n",
            "Epoch 49/60\n",
            "14/14 [==============================] - 0s 6ms/step - loss: 0.1683 - accuracy: 0.9601 - val_loss: 0.1618 - val_accuracy: 0.9580\n",
            "Epoch 50/60\n",
            "14/14 [==============================] - 0s 5ms/step - loss: 0.1658 - accuracy: 0.9624 - val_loss: 0.1597 - val_accuracy: 0.9580\n",
            "Epoch 51/60\n",
            "14/14 [==============================] - 0s 6ms/step - loss: 0.1635 - accuracy: 0.9624 - val_loss: 0.1577 - val_accuracy: 0.9580\n",
            "Epoch 52/60\n",
            "14/14 [==============================] - 0s 7ms/step - loss: 0.1611 - accuracy: 0.9624 - val_loss: 0.1557 - val_accuracy: 0.9650\n",
            "Epoch 53/60\n",
            "14/14 [==============================] - 0s 7ms/step - loss: 0.1589 - accuracy: 0.9624 - val_loss: 0.1537 - val_accuracy: 0.9650\n",
            "Epoch 54/60\n",
            "14/14 [==============================] - 0s 6ms/step - loss: 0.1567 - accuracy: 0.9648 - val_loss: 0.1520 - val_accuracy: 0.9650\n",
            "Epoch 55/60\n",
            "14/14 [==============================] - 0s 5ms/step - loss: 0.1547 - accuracy: 0.9648 - val_loss: 0.1501 - val_accuracy: 0.9650\n",
            "Epoch 56/60\n",
            "14/14 [==============================] - 0s 5ms/step - loss: 0.1526 - accuracy: 0.9671 - val_loss: 0.1484 - val_accuracy: 0.9650\n",
            "Epoch 57/60\n",
            "14/14 [==============================] - 0s 6ms/step - loss: 0.1507 - accuracy: 0.9671 - val_loss: 0.1468 - val_accuracy: 0.9650\n",
            "Epoch 58/60\n",
            "14/14 [==============================] - 0s 5ms/step - loss: 0.1488 - accuracy: 0.9718 - val_loss: 0.1451 - val_accuracy: 0.9650\n",
            "Epoch 59/60\n",
            "14/14 [==============================] - 0s 6ms/step - loss: 0.1469 - accuracy: 0.9695 - val_loss: 0.1436 - val_accuracy: 0.9650\n",
            "Epoch 60/60\n",
            "14/14 [==============================] - 0s 6ms/step - loss: 0.1451 - accuracy: 0.9718 - val_loss: 0.1421 - val_accuracy: 0.9720\n",
            "14/14 [==============================] - 0s 3ms/step - loss: 0.1441 - accuracy: 0.9765\n",
            "Train score:  [0.1441328227519989, 0.9765258431434631]\n",
            "5/5 [==============================] - 0s 3ms/step - loss: 0.1421 - accuracy: 0.9720\n",
            "Test score:  [0.14211063086986542, 0.9720279574394226]\n"
          ]
        }
      ]
    },
    {
      "cell_type": "code",
      "source": [
        "import matplotlib.pyplot as plt\n",
        "plt.plot(r.history['loss'], label='train_loss')\n",
        "plt.plot(r.history['val_loss'], label='val_loss')\n",
        "plt.legend()"
      ],
      "metadata": {
        "colab": {
          "base_uri": "https://localhost:8080/",
          "height": 284
        },
        "id": "iQSAGFumH4gZ",
        "outputId": "ce159cb8-fafe-418e-f12a-474ef15adcc2"
      },
      "execution_count": 43,
      "outputs": [
        {
          "output_type": "execute_result",
          "data": {
            "text/plain": [
              "<matplotlib.legend.Legend at 0x7fa204f1a4d0>"
            ]
          },
          "metadata": {},
          "execution_count": 43
        },
        {
          "output_type": "display_data",
          "data": {
            "text/plain": [
              "<Figure size 432x288 with 1 Axes>"
            ],
            "image/png": "[encoded data removed]"
          },
          "metadata": {
            "needs_background": "light"
          }
        }
      ]
    },
    {
      "cell_type": "code",
      "source": [
        "import matplotlib.pyplot as plt\n",
        "plt.plot(r.history['accuracy'], label='acc')\n",
        "plt.plot(r.history['val_accuracy'], label='val_acc')\n",
        "plt.legend()"
      ],
      "metadata": {
        "colab": {
          "base_uri": "https://localhost:8080/",
          "height": 285
        },
        "id": "FtXqSvwtH4jL",
        "outputId": "f44fa49c-cdc4-4421-953c-9e75d9e263d1"
      },
      "execution_count": 44,
      "outputs": [
        {
          "output_type": "execute_result",
          "data": {
            "text/plain": [
              "<matplotlib.legend.Legend at 0x7fa204db0c50>"
            ]
          },
          "metadata": {},
          "execution_count": 44
        },
        {
          "output_type": "display_data",
          "data": {
            "text/plain": [
              "<Figure size 432x288 with 1 Axes>"
            ],
            "image/png": "[encoded data removed]"
          },
          "metadata": {
            "needs_background": "light"
          }
        }
      ]
    },
    {
      "cell_type": "code",
      "source": [
        ""
      ],
      "metadata": {
        "id": "A5QpuNSQH4l0"
      },
      "execution_count": null,
      "outputs": []
    },
    {
      "cell_type": "code",
      "source": [
        ""
      ],
      "metadata": {
        "id": "5_qmTJSyH4ov"
      },
      "execution_count": null,
      "outputs": []
    }
  ]
}